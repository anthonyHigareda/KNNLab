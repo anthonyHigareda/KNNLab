{
 "cells": [
  {
   "cell_type": "markdown",
   "id": "e0be9308",
   "metadata": {},
   "source": [
    "# KNN Lab!"
   ]
  },
  {
   "cell_type": "markdown",
   "id": "ca8d21d3",
   "metadata": {},
   "source": [
    "### Your name here"
   ]
  },
  {
   "cell_type": "markdown",
   "id": "ab0a8b21",
   "metadata": {},
   "source": [
    "In this lab you will be building your own KNN implementation and comparing it to SKLearn's KNN implementation. You will then compare KNN to other machine learning algorithms.\n",
    "\n",
    "**NOTE: IF YOU MAKE CHANGES TO AN EXTERNAL PYTHON CLASS, TO MAKE THOSE CHANGES APPEAR IN THE NOTEBOOK WHEN YOU RUN YOUR CODE YOU MUST RESTART THE KERNEL THEN REIMPORT THE CLASS**"
   ]
  },
  {
   "cell_type": "code",
   "execution_count": null,
   "id": "d12f232b",
   "metadata": {},
   "outputs": [],
   "source": [
    "#imports!\n",
    "import matplotlib.pyplot as plt\n",
    "from sklearn.datasets import load_iris\n",
    "import seaborn as sns; sns.set()  # for plot styling\n",
    "import numpy as np\n",
    "import pandas as pd\n",
    "from sklearn.model_selection import train_test_split\n",
    "from sklearn.neighbors import KNeighborsClassifier\n",
    "import test_knn #be sure the test_knn class is in the same directory as this notebook\n",
    "from knn import KNN #be sure the knn class is in the same directory as this notebook\n",
    "from sklearn.metrics import accuracy_score\n",
    "\n",
    "#some functionality in the KNeighbors causes a warning to appear \n",
    "#doing the below will suppress these warnings\n",
    "import warnings\n",
    "warnings.filterwarnings('ignore', category=FutureWarning)"
   ]
  },
  {
   "cell_type": "markdown",
   "id": "3fc8f11f",
   "metadata": {},
   "source": [
    "# Part 1 - Visualize the Data"
   ]
  },
  {
   "cell_type": "code",
   "execution_count": null,
   "id": "1f3c2b2e",
   "metadata": {},
   "outputs": [],
   "source": [
    "#data import\n",
    "iris = load_iris() #this is the same data we used in class, but from another source\n",
    "iris"
   ]
  },
  {
   "cell_type": "markdown",
   "id": "5c9aae7c",
   "metadata": {},
   "source": [
    "In the following cell, use Matplotlib to make scatter plots of different feature pairings, coloring the points by their \"targets\" (labels). When you submit, show the plot that you think best differentiates the classes. Alternatively, you can recreate the Seaborn pairplot that we created for this data in the supervized_learning.ipynb notebook, and comment on which subplot best illustrates the separation between the classes."
   ]
  },
  {
   "cell_type": "code",
   "execution_count": null,
   "id": "c30c9fdd",
   "metadata": {},
   "outputs": [],
   "source": []
  },
  {
   "cell_type": "markdown",
   "id": "83e3a8e6",
   "metadata": {},
   "source": [
    "# Part 2 - Implementing kNN"
   ]
  },
  {
   "cell_type": "markdown",
   "id": "4743a736",
   "metadata": {},
   "source": [
    "In the knn.py class (which needs to be in the same directory as this notebook), implement the predict_loop() method. If you need a refresher on Python objects, go check out the Lecture 4 slides.\n",
    "\n",
    "In the knn.py class, \\_\\_init\\_\\_() and fit() are already implemented for you. \\_\\_init\\_\\_() is a constructor, and creates an instance variable self.k (the \"k\" in KNN). Fit adds two more instance variables self.X and self.y (which are the training data and the labels, respectively).\n",
    "\n",
    "Assuming your predict_loop() implementation is correct, the following cell should run without error.\n",
    "\n",
    "**Hint:** The return type expected from predict_loop() is a numpy array. If you used a Python list (or some other data structure) to keep track of your output labels, simply call np.asarray() on that list when you return it."
   ]
  },
  {
   "cell_type": "code",
   "execution_count": null,
   "id": "c0187687",
   "metadata": {},
   "outputs": [],
   "source": [
    "test = test_knn.TestKNN()\n",
    "test.test_blob_classification_loop()\n",
    "test.test_iris_classification_loop()"
   ]
  },
  {
   "cell_type": "markdown",
   "id": "1c1a7984",
   "metadata": {},
   "source": [
    "# Part 3 - Training a model"
   ]
  },
  {
   "cell_type": "markdown",
   "id": "a6f148c8",
   "metadata": {},
   "source": [
    "In the cell below, use the train-test split given to train the model with k = 1, then **print out the accuracy of your model** (you may use the accuracy_score() method imported above to do this). Note that training our class behaves exactly like the previous models we have trained before (1: create the model object, 2: \"fit\" the model to the data, 3: predict the labels from the test data - note that our prediction method is predict_loop(), not just predict())."
   ]
  },
  {
   "cell_type": "code",
   "execution_count": null,
   "id": "8f3dc48a",
   "metadata": {},
   "outputs": [],
   "source": [
    "train_X, test_X, train_y, test_y = train_test_split(iris.data, iris.target, stratify = iris.target,\n",
    "                                                    random_state = 0)"
   ]
  },
  {
   "cell_type": "markdown",
   "id": "8f62225a",
   "metadata": {},
   "source": [
    "Your accuracy should be pretty good - but can you do better with different values of k? In the cell below, calculate and plot accuracies for k ranging between 1 and 40. Keep the same train/test/split as above."
   ]
  },
  {
   "cell_type": "code",
   "execution_count": null,
   "id": "fd020a71",
   "metadata": {},
   "outputs": [],
   "source": []
  },
  {
   "cell_type": "markdown",
   "id": "cb7169e0",
   "metadata": {},
   "source": [
    "In the cell below, answer the question - why does accuracy start to drop when you have a k around 40?"
   ]
  },
  {
   "cell_type": "markdown",
   "id": "ce605c87",
   "metadata": {},
   "source": []
  },
  {
   "cell_type": "markdown",
   "id": "5885eefb",
   "metadata": {},
   "source": [
    "# Part 4 - Using a prebuilt model"
   ]
  },
  {
   "cell_type": "markdown",
   "id": "e7da28e2",
   "metadata": {},
   "source": [
    "Lets now compare our KNN model with SKLearn's KNN model. The cell below contains a function that will run SKLearn's KNN model on an input data set. Use it to recreate the plot from part 3. **Answer the questions:** Do the two methods get a consistent output? Is that expected for kNN?"
   ]
  },
  {
   "cell_type": "code",
   "execution_count": null,
   "id": "ecb6fed2",
   "metadata": {},
   "outputs": [],
   "source": [
    "def run_knn(X_train, y_train, X_test, y_test, k=5):\n",
    "    knn = KNeighborsClassifier(n_neighbors=k)\n",
    "    knn.fit(X_train, y_train)\n",
    "    pred = knn.predict(X_test)\n",
    "    return accuracy_score(pred, y_test)"
   ]
  },
  {
   "cell_type": "code",
   "execution_count": null,
   "id": "0d5d162f",
   "metadata": {},
   "outputs": [],
   "source": []
  },
  {
   "cell_type": "markdown",
   "id": "2ccf03fd",
   "metadata": {},
   "source": [
    "# Part 5 - Benchmarking"
   ]
  },
  {
   "cell_type": "markdown",
   "id": "dc17522c",
   "metadata": {},
   "source": [
    "In the cell below, benchmark (using %%timeit) the time it takes to create/fit/predict our kNN implmentation on the iris data with k = 20"
   ]
  },
  {
   "cell_type": "code",
   "execution_count": null,
   "id": "99cc096b",
   "metadata": {},
   "outputs": [],
   "source": []
  },
  {
   "cell_type": "markdown",
   "id": "29233a5f",
   "metadata": {},
   "source": [
    "In the cell below, benchmark the time it takes to train SKLearn's kNN implementation on the iris data with k = 20. Is there a large difference between the two methods?"
   ]
  },
  {
   "cell_type": "code",
   "execution_count": null,
   "id": "f6a19a88",
   "metadata": {},
   "outputs": [],
   "source": []
  }
 ],
 "metadata": {
  "kernelspec": {
   "display_name": "Python 3 (ipykernel)",
   "language": "python",
   "name": "python3"
  },
  "language_info": {
   "codemirror_mode": {
    "name": "ipython",
    "version": 3
   },
   "file_extension": ".py",
   "mimetype": "text/x-python",
   "name": "python",
   "nbconvert_exporter": "python",
   "pygments_lexer": "ipython3",
   "version": "3.11.5"
  }
 },
 "nbformat": 4,
 "nbformat_minor": 5
}
